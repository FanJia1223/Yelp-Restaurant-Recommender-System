{
 "cells": [
  {
   "cell_type": "code",
   "execution_count": 70,
   "metadata": {},
   "outputs": [],
   "source": [
    "import pyspark.sql.types as T \n",
    "import pyspark.sql.functions as F\n",
    "import seaborn as sns\n",
    "import matplotlib.pyplot as plt\n",
    "import pandas as pd\n",
    "import matplotlib\n",
    "%matplotlib inline  "
   ]
  },
  {
   "cell_type": "code",
   "execution_count": 71,
   "metadata": {},
   "outputs": [],
   "source": [
    "businessDF_raw = spark.read.json(\"business.json\")\n",
    "reviewDF_raw =  spark.read.json(\"review.json\")\n",
    "userDF_raw =  spark.read.json(\"user.json\")"
   ]
  },
  {
   "cell_type": "code",
   "execution_count": 72,
   "metadata": {},
   "outputs": [],
   "source": [
    "businessDF_raw.createOrReplaceTempView(\"business_raw\")\n",
    "reviewDF_raw.createOrReplaceTempView(\"review_raw\")\n",
    "userDF_raw.createOrReplaceTempView(\"user_raw\")"
   ]
  },
  {
   "cell_type": "code",
   "execution_count": 118,
   "metadata": {},
   "outputs": [],
   "source": [
    "businessDF = spark.sql(\"\"\"\n",
    "SELECT business_id as bus_id, name, city, state, stars as bus_stars, review_count as ResReview_count, is_open, attributes,categories, hours  FROM business_raw\n",
    "\"\"\")\n",
    "reviewDF = spark.sql(\"\"\"SELECT review_id, user_id as u_id, business_id,stars as rev_stars,date FROM review_raw\n",
    "\"\"\")\n",
    "userDF = spark.sql(\"\"\"\n",
    "SELECT user_id, name, review_count as UserReview_count, yelping_since, friends, average_stars from user_raw \"\"\")"
   ]
  },
  {
   "cell_type": "code",
   "execution_count": 119,
   "metadata": {},
   "outputs": [],
   "source": [
    "businessDF.createOrReplaceTempView(\"business\")\n",
    "reviewDF.createOrReplaceTempView(\"review\")\n",
    "userDF.createOrReplaceTempView(\"user\")"
   ]
  },
  {
   "cell_type": "code",
   "execution_count": 120,
   "metadata": {},
   "outputs": [],
   "source": [
    "combineDF = spark.sql(\"\"\" SELECT * FROM review\n",
    "INNER JOIN   business  ON business.bus_id = review.business_id\n",
    "INNER JOIN  user ON user.user_id = review.u_id\n",
    "\"\"\")"
   ]
  },
  {
   "cell_type": "code",
   "execution_count": 121,
   "metadata": {},
   "outputs": [
    {
     "data": {
      "text/html": [
       "<div>\n",
       "<style scoped>\n",
       "    .dataframe tbody tr th:only-of-type {\n",
       "        vertical-align: middle;\n",
       "    }\n",
       "\n",
       "    .dataframe tbody tr th {\n",
       "        vertical-align: top;\n",
       "    }\n",
       "\n",
       "    .dataframe thead th {\n",
       "        text-align: right;\n",
       "    }\n",
       "</style>\n",
       "<table border=\"1\" class=\"dataframe\">\n",
       "  <thead>\n",
       "    <tr style=\"text-align: right;\">\n",
       "      <th></th>\n",
       "      <th>review_id</th>\n",
       "      <th>u_id</th>\n",
       "      <th>business_id</th>\n",
       "      <th>rev_stars</th>\n",
       "      <th>date</th>\n",
       "      <th>bus_id</th>\n",
       "      <th>name</th>\n",
       "      <th>city</th>\n",
       "      <th>state</th>\n",
       "      <th>bus_stars</th>\n",
       "      <th>...</th>\n",
       "      <th>is_open</th>\n",
       "      <th>attributes</th>\n",
       "      <th>categories</th>\n",
       "      <th>hours</th>\n",
       "      <th>user_id</th>\n",
       "      <th>name</th>\n",
       "      <th>UserReview_count</th>\n",
       "      <th>yelping_since</th>\n",
       "      <th>friends</th>\n",
       "      <th>average_stars</th>\n",
       "    </tr>\n",
       "  </thead>\n",
       "  <tbody>\n",
       "    <tr>\n",
       "      <th>0</th>\n",
       "      <td>TbU3S2kWmfajlVov3I9EKw</td>\n",
       "      <td>-1KKYzibGPyUX-MwkBTlrg</td>\n",
       "      <td>L772e6l2Yd0DJEyCBxBNng</td>\n",
       "      <td>4.0</td>\n",
       "      <td>2014-09-19 01:12:10</td>\n",
       "      <td>L772e6l2Yd0DJEyCBxBNng</td>\n",
       "      <td>State Street Brats</td>\n",
       "      <td>Madison</td>\n",
       "      <td>WI</td>\n",
       "      <td>3.0</td>\n",
       "      <td>...</td>\n",
       "      <td>1</td>\n",
       "      <td>(None, None, u'full_bar', {'romantic': False, ...</td>\n",
       "      <td>Sports Bars, Restaurants, American (Traditiona...</td>\n",
       "      <td>(11:0-2:0, 11:0-2:0, 11:0-2:0, 11:0-2:0, 11:0-...</td>\n",
       "      <td>-1KKYzibGPyUX-MwkBTlrg</td>\n",
       "      <td>Nickie</td>\n",
       "      <td>163</td>\n",
       "      <td>2009-08-07 13:42:19</td>\n",
       "      <td>4NKTLRuxT5etbNOK53QL3w, a3riT5uvhETcvHssPUEPWQ...</td>\n",
       "      <td>4.00</td>\n",
       "    </tr>\n",
       "    <tr>\n",
       "      <th>1</th>\n",
       "      <td>AF7_icUaLQVgj7d29xdYmw</td>\n",
       "      <td>-1zQA2f_syMAdA04PUWNNw</td>\n",
       "      <td>sAS4fHDiK8A9a1wEAj4S3w</td>\n",
       "      <td>1.0</td>\n",
       "      <td>2014-08-28 01:31:40</td>\n",
       "      <td>sAS4fHDiK8A9a1wEAj4S3w</td>\n",
       "      <td>MD Wireless Smartphone Repair</td>\n",
       "      <td>Las Vegas</td>\n",
       "      <td>NV</td>\n",
       "      <td>4.0</td>\n",
       "      <td>...</td>\n",
       "      <td>1</td>\n",
       "      <td>(None, None, None, None, None, None, None, Non...</td>\n",
       "      <td>Personal Assistants, Mobile Phone Repair, IT S...</td>\n",
       "      <td>(10:0-19:0, 10:0-19:0, 10:0-19:0, None, 10:0-1...</td>\n",
       "      <td>-1zQA2f_syMAdA04PUWNNw</td>\n",
       "      <td>Zach</td>\n",
       "      <td>7</td>\n",
       "      <td>2014-06-22 02:44:41</td>\n",
       "      <td>J-lQl_8bKKojp32Jb3H2Rg, fFxOSG41WngPfdurA4l8Ag...</td>\n",
       "      <td>3.29</td>\n",
       "    </tr>\n",
       "    <tr>\n",
       "      <th>2</th>\n",
       "      <td>08j8zUlyJylKcJa_rIeB-w</td>\n",
       "      <td>-1zQA2f_syMAdA04PUWNNw</td>\n",
       "      <td>aNe8ofTYrealxqv7VtFTuw</td>\n",
       "      <td>5.0</td>\n",
       "      <td>2016-07-29 19:44:01</td>\n",
       "      <td>aNe8ofTYrealxqv7VtFTuw</td>\n",
       "      <td>Sierra Gold</td>\n",
       "      <td>Las Vegas</td>\n",
       "      <td>NV</td>\n",
       "      <td>3.5</td>\n",
       "      <td>...</td>\n",
       "      <td>1</td>\n",
       "      <td>(None, None, u'full_bar', {'romantic': False, ...</td>\n",
       "      <td>Pubs, Sports Bars, Pizza, Nightlife, Food, Bre...</td>\n",
       "      <td>(0:0-0:0, 0:0-0:0, 0:0-0:0, 0:0-0:0, 0:0-0:0, ...</td>\n",
       "      <td>-1zQA2f_syMAdA04PUWNNw</td>\n",
       "      <td>Zach</td>\n",
       "      <td>7</td>\n",
       "      <td>2014-06-22 02:44:41</td>\n",
       "      <td>J-lQl_8bKKojp32Jb3H2Rg, fFxOSG41WngPfdurA4l8Ag...</td>\n",
       "      <td>3.29</td>\n",
       "    </tr>\n",
       "    <tr>\n",
       "      <th>3</th>\n",
       "      <td>yegncED90TID9lW3GwBE2Q</td>\n",
       "      <td>-3i9bhfvrM3F1wsC9XIB8g</td>\n",
       "      <td>yNVcnSaMSrTmjJBMrHTy9w</td>\n",
       "      <td>3.0</td>\n",
       "      <td>2007-03-27 20:22:15</td>\n",
       "      <td>yNVcnSaMSrTmjJBMrHTy9w</td>\n",
       "      <td>Battista's Hole In the Wall</td>\n",
       "      <td>Las Vegas</td>\n",
       "      <td>NV</td>\n",
       "      <td>3.5</td>\n",
       "      <td>...</td>\n",
       "      <td>1</td>\n",
       "      <td>(None, None, u'full_bar', {'romantic': False, ...</td>\n",
       "      <td>Bars, Restaurants, Nightlife, Italian, Wine Bars</td>\n",
       "      <td>(17:0-22:45, 17:0-22:15, 17:0-22:45, 17:0-22:1...</td>\n",
       "      <td>-3i9bhfvrM3F1wsC9XIB8g</td>\n",
       "      <td>Linda</td>\n",
       "      <td>652</td>\n",
       "      <td>2005-08-07 03:08:12</td>\n",
       "      <td>9YLROKnskYk3OVZosiwC7A, lWJXYN7J7jMpF12izhGJmQ...</td>\n",
       "      <td>4.07</td>\n",
       "    </tr>\n",
       "    <tr>\n",
       "      <th>4</th>\n",
       "      <td>P1K77IxkrLC--nFkDVC4cg</td>\n",
       "      <td>-3i9bhfvrM3F1wsC9XIB8g</td>\n",
       "      <td>GtHu9uGXpn7Jg_Z7vFKZKw</td>\n",
       "      <td>4.0</td>\n",
       "      <td>2016-01-01 05:34:49</td>\n",
       "      <td>GtHu9uGXpn7Jg_Z7vFKZKw</td>\n",
       "      <td>Meatball Spot</td>\n",
       "      <td>Las Vegas</td>\n",
       "      <td>NV</td>\n",
       "      <td>3.5</td>\n",
       "      <td>...</td>\n",
       "      <td>0</td>\n",
       "      <td>(None, None, 'none', {'romantic': False, 'inti...</td>\n",
       "      <td>American (New), Restaurants, Italian</td>\n",
       "      <td>None</td>\n",
       "      <td>-3i9bhfvrM3F1wsC9XIB8g</td>\n",
       "      <td>Linda</td>\n",
       "      <td>652</td>\n",
       "      <td>2005-08-07 03:08:12</td>\n",
       "      <td>9YLROKnskYk3OVZosiwC7A, lWJXYN7J7jMpF12izhGJmQ...</td>\n",
       "      <td>4.07</td>\n",
       "    </tr>\n",
       "  </tbody>\n",
       "</table>\n",
       "<p>5 rows × 21 columns</p>\n",
       "</div>"
      ],
      "text/plain": [
       "                review_id                    u_id             business_id  \\\n",
       "0  TbU3S2kWmfajlVov3I9EKw  -1KKYzibGPyUX-MwkBTlrg  L772e6l2Yd0DJEyCBxBNng   \n",
       "1  AF7_icUaLQVgj7d29xdYmw  -1zQA2f_syMAdA04PUWNNw  sAS4fHDiK8A9a1wEAj4S3w   \n",
       "2  08j8zUlyJylKcJa_rIeB-w  -1zQA2f_syMAdA04PUWNNw  aNe8ofTYrealxqv7VtFTuw   \n",
       "3  yegncED90TID9lW3GwBE2Q  -3i9bhfvrM3F1wsC9XIB8g  yNVcnSaMSrTmjJBMrHTy9w   \n",
       "4  P1K77IxkrLC--nFkDVC4cg  -3i9bhfvrM3F1wsC9XIB8g  GtHu9uGXpn7Jg_Z7vFKZKw   \n",
       "\n",
       "   rev_stars                 date                  bus_id  \\\n",
       "0        4.0  2014-09-19 01:12:10  L772e6l2Yd0DJEyCBxBNng   \n",
       "1        1.0  2014-08-28 01:31:40  sAS4fHDiK8A9a1wEAj4S3w   \n",
       "2        5.0  2016-07-29 19:44:01  aNe8ofTYrealxqv7VtFTuw   \n",
       "3        3.0  2007-03-27 20:22:15  yNVcnSaMSrTmjJBMrHTy9w   \n",
       "4        4.0  2016-01-01 05:34:49  GtHu9uGXpn7Jg_Z7vFKZKw   \n",
       "\n",
       "                            name       city state  bus_stars  ...  is_open  \\\n",
       "0             State Street Brats    Madison    WI        3.0  ...        1   \n",
       "1  MD Wireless Smartphone Repair  Las Vegas    NV        4.0  ...        1   \n",
       "2                    Sierra Gold  Las Vegas    NV        3.5  ...        1   \n",
       "3    Battista's Hole In the Wall  Las Vegas    NV        3.5  ...        1   \n",
       "4                  Meatball Spot  Las Vegas    NV        3.5  ...        0   \n",
       "\n",
       "                                          attributes  \\\n",
       "0  (None, None, u'full_bar', {'romantic': False, ...   \n",
       "1  (None, None, None, None, None, None, None, Non...   \n",
       "2  (None, None, u'full_bar', {'romantic': False, ...   \n",
       "3  (None, None, u'full_bar', {'romantic': False, ...   \n",
       "4  (None, None, 'none', {'romantic': False, 'inti...   \n",
       "\n",
       "                                          categories  \\\n",
       "0  Sports Bars, Restaurants, American (Traditiona...   \n",
       "1  Personal Assistants, Mobile Phone Repair, IT S...   \n",
       "2  Pubs, Sports Bars, Pizza, Nightlife, Food, Bre...   \n",
       "3   Bars, Restaurants, Nightlife, Italian, Wine Bars   \n",
       "4               American (New), Restaurants, Italian   \n",
       "\n",
       "                                               hours                 user_id  \\\n",
       "0  (11:0-2:0, 11:0-2:0, 11:0-2:0, 11:0-2:0, 11:0-...  -1KKYzibGPyUX-MwkBTlrg   \n",
       "1  (10:0-19:0, 10:0-19:0, 10:0-19:0, None, 10:0-1...  -1zQA2f_syMAdA04PUWNNw   \n",
       "2  (0:0-0:0, 0:0-0:0, 0:0-0:0, 0:0-0:0, 0:0-0:0, ...  -1zQA2f_syMAdA04PUWNNw   \n",
       "3  (17:0-22:45, 17:0-22:15, 17:0-22:45, 17:0-22:1...  -3i9bhfvrM3F1wsC9XIB8g   \n",
       "4                                               None  -3i9bhfvrM3F1wsC9XIB8g   \n",
       "\n",
       "     name UserReview_count        yelping_since  \\\n",
       "0  Nickie              163  2009-08-07 13:42:19   \n",
       "1    Zach                7  2014-06-22 02:44:41   \n",
       "2    Zach                7  2014-06-22 02:44:41   \n",
       "3   Linda              652  2005-08-07 03:08:12   \n",
       "4   Linda              652  2005-08-07 03:08:12   \n",
       "\n",
       "                                             friends average_stars  \n",
       "0  4NKTLRuxT5etbNOK53QL3w, a3riT5uvhETcvHssPUEPWQ...          4.00  \n",
       "1  J-lQl_8bKKojp32Jb3H2Rg, fFxOSG41WngPfdurA4l8Ag...          3.29  \n",
       "2  J-lQl_8bKKojp32Jb3H2Rg, fFxOSG41WngPfdurA4l8Ag...          3.29  \n",
       "3  9YLROKnskYk3OVZosiwC7A, lWJXYN7J7jMpF12izhGJmQ...          4.07  \n",
       "4  9YLROKnskYk3OVZosiwC7A, lWJXYN7J7jMpF12izhGJmQ...          4.07  \n",
       "\n",
       "[5 rows x 21 columns]"
      ]
     },
     "execution_count": 121,
     "metadata": {},
     "output_type": "execute_result"
    }
   ],
   "source": [
    "combineDF.createOrReplaceTempView(\"combine\")\n",
    "\n",
    "spark.sql(\"\"\"\n",
    "SELECT * FROM combine\n",
    "LIMIT 5\n",
    "\"\"\").toPandas()"
   ]
  },
  {
   "cell_type": "code",
   "execution_count": 122,
   "metadata": {},
   "outputs": [],
   "source": [
    "#combineDF.describe().toPandas()"
   ]
  },
  {
   "cell_type": "code",
   "execution_count": 123,
   "metadata": {},
   "outputs": [],
   "source": [
    "citycombineDF = spark.sql(\"\"\"\n",
    "SELECT * FROM combine\n",
    "WHERE categories like 'Restau%' and ( city like 'Toron%' or city like 'Markha%' or city like 'Mississau%' \n",
    "or city like 'North York%' or city like 'Richmond Hil%')\"\"\")\n"
   ]
  },
  {
   "cell_type": "code",
   "execution_count": 163,
   "metadata": {},
   "outputs": [],
   "source": [
    "citycombine2 = citycombineDF.toPandas()\n",
    "citycombine2.to_csv(\"city combine.csv\")  \n"
   ]
  },
  {
   "cell_type": "code",
   "execution_count": 125,
   "metadata": {},
   "outputs": [],
   "source": [
    "citycombineDF.createOrReplaceTempView(\"citycombine\")"
   ]
  },
  {
   "cell_type": "code",
   "execution_count": 126,
   "metadata": {},
   "outputs": [
    {
     "data": {
      "text/html": [
       "<div>\n",
       "<style scoped>\n",
       "    .dataframe tbody tr th:only-of-type {\n",
       "        vertical-align: middle;\n",
       "    }\n",
       "\n",
       "    .dataframe tbody tr th {\n",
       "        vertical-align: top;\n",
       "    }\n",
       "\n",
       "    .dataframe thead th {\n",
       "        text-align: right;\n",
       "    }\n",
       "</style>\n",
       "<table border=\"1\" class=\"dataframe\">\n",
       "  <thead>\n",
       "    <tr style=\"text-align: right;\">\n",
       "      <th></th>\n",
       "      <th>summary</th>\n",
       "      <th>review_id</th>\n",
       "      <th>u_id</th>\n",
       "      <th>business_id</th>\n",
       "      <th>rev_stars</th>\n",
       "      <th>date</th>\n",
       "      <th>bus_id</th>\n",
       "      <th>name</th>\n",
       "      <th>city</th>\n",
       "      <th>state</th>\n",
       "      <th>bus_stars</th>\n",
       "      <th>ResReview_count</th>\n",
       "      <th>is_open</th>\n",
       "      <th>categories</th>\n",
       "      <th>user_id</th>\n",
       "      <th>name</th>\n",
       "      <th>UserReview_count</th>\n",
       "      <th>yelping_since</th>\n",
       "      <th>friends</th>\n",
       "      <th>average_stars</th>\n",
       "    </tr>\n",
       "  </thead>\n",
       "  <tbody>\n",
       "    <tr>\n",
       "      <th>0</th>\n",
       "      <td>count</td>\n",
       "      <td>45047</td>\n",
       "      <td>45047</td>\n",
       "      <td>45047</td>\n",
       "      <td>45047</td>\n",
       "      <td>45047</td>\n",
       "      <td>45047</td>\n",
       "      <td>45047</td>\n",
       "      <td>45047</td>\n",
       "      <td>45047</td>\n",
       "      <td>45047</td>\n",
       "      <td>45047</td>\n",
       "      <td>45047</td>\n",
       "      <td>45047</td>\n",
       "      <td>45047</td>\n",
       "      <td>45047</td>\n",
       "      <td>45047</td>\n",
       "      <td>45047</td>\n",
       "      <td>45047</td>\n",
       "      <td>45047</td>\n",
       "    </tr>\n",
       "    <tr>\n",
       "      <th>1</th>\n",
       "      <td>mean</td>\n",
       "      <td>None</td>\n",
       "      <td>None</td>\n",
       "      <td>None</td>\n",
       "      <td>3.575132639243457</td>\n",
       "      <td>None</td>\n",
       "      <td>None</td>\n",
       "      <td>229.0</td>\n",
       "      <td>None</td>\n",
       "      <td>None</td>\n",
       "      <td>3.5510799831287323</td>\n",
       "      <td>144.92982884542812</td>\n",
       "      <td>0.8021621861611206</td>\n",
       "      <td>None</td>\n",
       "      <td>None</td>\n",
       "      <td>None</td>\n",
       "      <td>228.0255732901192</td>\n",
       "      <td>None</td>\n",
       "      <td>None</td>\n",
       "      <td>3.61555020312118</td>\n",
       "    </tr>\n",
       "    <tr>\n",
       "      <th>2</th>\n",
       "      <td>stddev</td>\n",
       "      <td>None</td>\n",
       "      <td>None</td>\n",
       "      <td>None</td>\n",
       "      <td>1.1609140880508113</td>\n",
       "      <td>None</td>\n",
       "      <td>None</td>\n",
       "      <td>0.0</td>\n",
       "      <td>None</td>\n",
       "      <td>None</td>\n",
       "      <td>0.5437292106250926</td>\n",
       "      <td>145.88746014511867</td>\n",
       "      <td>0.39837361392986176</td>\n",
       "      <td>None</td>\n",
       "      <td>None</td>\n",
       "      <td>None</td>\n",
       "      <td>600.038936018167</td>\n",
       "      <td>None</td>\n",
       "      <td>None</td>\n",
       "      <td>0.4732182279202408</td>\n",
       "    </tr>\n",
       "    <tr>\n",
       "      <th>3</th>\n",
       "      <td>min</td>\n",
       "      <td>--0zXw3_ZjcRXPo3CRBKQw</td>\n",
       "      <td>--7gjElmOrthETJ8XqzMBw</td>\n",
       "      <td>-AVRReI-nfsa0lKlehEojw</td>\n",
       "      <td>1.0</td>\n",
       "      <td>2008-08-06 23:04:28</td>\n",
       "      <td>-AVRReI-nfsa0lKlehEojw</td>\n",
       "      <td>180 Secondi</td>\n",
       "      <td>Markham</td>\n",
       "      <td>BC</td>\n",
       "      <td>1.0</td>\n",
       "      <td>3</td>\n",
       "      <td>0</td>\n",
       "      <td>Restaurants</td>\n",
       "      <td>--7gjElmOrthETJ8XqzMBw</td>\n",
       "      <td>.</td>\n",
       "      <td>1</td>\n",
       "      <td>2005-03-04 04:26:12</td>\n",
       "      <td>--Qh8yKWAvIP4V4K8ZPfHA, oGjHvq_gGA1liPultrPwOw...</td>\n",
       "      <td>1.0</td>\n",
       "    </tr>\n",
       "    <tr>\n",
       "      <th>4</th>\n",
       "      <td>max</td>\n",
       "      <td>zzd6yae3FNXoXHOjQrDn_A</td>\n",
       "      <td>zzo--VpSQh8PpsGVeMC1dQ</td>\n",
       "      <td>zxWbNs31PLO0DKBTY4L4Ig</td>\n",
       "      <td>5.0</td>\n",
       "      <td>2018-11-14 17:43:19</td>\n",
       "      <td>zxWbNs31PLO0DKBTY4L4Ig</td>\n",
       "      <td>z-teca Gourmet Burritos</td>\n",
       "      <td>Toronto</td>\n",
       "      <td>ON</td>\n",
       "      <td>5.0</td>\n",
       "      <td>700</td>\n",
       "      <td>1</td>\n",
       "      <td>Restaurants, Women's Clothing, Cuban, Fashion,...</td>\n",
       "      <td>zzo--VpSQh8PpsGVeMC1dQ</td>\n",
       "      <td>Ôdré</td>\n",
       "      <td>7750</td>\n",
       "      <td>2018-09-30 12:30:23</td>\n",
       "      <td>zzltQbbtriSWWdNINMzJUw, jfgdYDS1h5Io4zfAxsoKfQ...</td>\n",
       "      <td>5.0</td>\n",
       "    </tr>\n",
       "  </tbody>\n",
       "</table>\n",
       "</div>"
      ],
      "text/plain": [
       "  summary               review_id                    u_id  \\\n",
       "0   count                   45047                   45047   \n",
       "1    mean                    None                    None   \n",
       "2  stddev                    None                    None   \n",
       "3     min  --0zXw3_ZjcRXPo3CRBKQw  --7gjElmOrthETJ8XqzMBw   \n",
       "4     max  zzd6yae3FNXoXHOjQrDn_A  zzo--VpSQh8PpsGVeMC1dQ   \n",
       "\n",
       "              business_id           rev_stars                 date  \\\n",
       "0                   45047               45047                45047   \n",
       "1                    None   3.575132639243457                 None   \n",
       "2                    None  1.1609140880508113                 None   \n",
       "3  -AVRReI-nfsa0lKlehEojw                 1.0  2008-08-06 23:04:28   \n",
       "4  zxWbNs31PLO0DKBTY4L4Ig                 5.0  2018-11-14 17:43:19   \n",
       "\n",
       "                   bus_id                     name     city  state  \\\n",
       "0                   45047                    45047    45047  45047   \n",
       "1                    None                    229.0     None   None   \n",
       "2                    None                      0.0     None   None   \n",
       "3  -AVRReI-nfsa0lKlehEojw              180 Secondi  Markham     BC   \n",
       "4  zxWbNs31PLO0DKBTY4L4Ig  z-teca Gourmet Burritos  Toronto     ON   \n",
       "\n",
       "            bus_stars     ResReview_count              is_open  \\\n",
       "0               45047               45047                45047   \n",
       "1  3.5510799831287323  144.92982884542812   0.8021621861611206   \n",
       "2  0.5437292106250926  145.88746014511867  0.39837361392986176   \n",
       "3                 1.0                   3                    0   \n",
       "4                 5.0                 700                    1   \n",
       "\n",
       "                                          categories                 user_id  \\\n",
       "0                                              45047                   45047   \n",
       "1                                               None                    None   \n",
       "2                                               None                    None   \n",
       "3                                        Restaurants  --7gjElmOrthETJ8XqzMBw   \n",
       "4  Restaurants, Women's Clothing, Cuban, Fashion,...  zzo--VpSQh8PpsGVeMC1dQ   \n",
       "\n",
       "    name   UserReview_count        yelping_since  \\\n",
       "0  45047              45047                45047   \n",
       "1   None  228.0255732901192                 None   \n",
       "2   None   600.038936018167                 None   \n",
       "3      .                  1  2005-03-04 04:26:12   \n",
       "4   Ôdré               7750  2018-09-30 12:30:23   \n",
       "\n",
       "                                             friends       average_stars  \n",
       "0                                              45047               45047  \n",
       "1                                               None    3.61555020312118  \n",
       "2                                               None  0.4732182279202408  \n",
       "3  --Qh8yKWAvIP4V4K8ZPfHA, oGjHvq_gGA1liPultrPwOw...                 1.0  \n",
       "4  zzltQbbtriSWWdNINMzJUw, jfgdYDS1h5Io4zfAxsoKfQ...                 5.0  "
      ]
     },
     "execution_count": 126,
     "metadata": {},
     "output_type": "execute_result"
    }
   ],
   "source": [
    "citycombineDF.describe().toPandas()"
   ]
  },
  {
   "cell_type": "code",
   "execution_count": 127,
   "metadata": {},
   "outputs": [
    {
     "data": {
      "text/html": [
       "<div>\n",
       "<style scoped>\n",
       "    .dataframe tbody tr th:only-of-type {\n",
       "        vertical-align: middle;\n",
       "    }\n",
       "\n",
       "    .dataframe tbody tr th {\n",
       "        vertical-align: top;\n",
       "    }\n",
       "\n",
       "    .dataframe thead th {\n",
       "        text-align: right;\n",
       "    }\n",
       "</style>\n",
       "<table border=\"1\" class=\"dataframe\">\n",
       "  <thead>\n",
       "    <tr style=\"text-align: right;\">\n",
       "      <th></th>\n",
       "      <th>ReviewCount</th>\n",
       "      <th>BusinessCount</th>\n",
       "      <th>UserCount</th>\n",
       "    </tr>\n",
       "  </thead>\n",
       "  <tbody>\n",
       "    <tr>\n",
       "      <th>0</th>\n",
       "      <td>45047</td>\n",
       "      <td>1798</td>\n",
       "      <td>12039</td>\n",
       "    </tr>\n",
       "  </tbody>\n",
       "</table>\n",
       "</div>"
      ],
      "text/plain": [
       "   ReviewCount  BusinessCount  UserCount\n",
       "0        45047           1798      12039"
      ]
     },
     "execution_count": 127,
     "metadata": {},
     "output_type": "execute_result"
    }
   ],
   "source": [
    "#user EDA\n",
    "spark.sql(\"\"\"\n",
    "SELECT COUNT(DISTINCT review_id) ReviewCount, COUNT(DISTINCT business_id) BusinessCount, COUNT(DISTINCT user_id) UserCount FROM citycombine\n",
    "\"\"\").toPandas()"
   ]
  },
  {
   "cell_type": "code",
   "execution_count": 128,
   "metadata": {},
   "outputs": [],
   "source": [
    "userProfileDF = spark.sql(\"\"\"\n",
    "SELECT DISTINCT user_id, UserReview_count, Yelping_since, friends, average_stars FROM citycombine\n",
    "\"\"\")"
   ]
  },
  {
   "cell_type": "code",
   "execution_count": 129,
   "metadata": {},
   "outputs": [
    {
     "data": {
      "text/html": [
       "<div>\n",
       "<style scoped>\n",
       "    .dataframe tbody tr th:only-of-type {\n",
       "        vertical-align: middle;\n",
       "    }\n",
       "\n",
       "    .dataframe tbody tr th {\n",
       "        vertical-align: top;\n",
       "    }\n",
       "\n",
       "    .dataframe thead th {\n",
       "        text-align: right;\n",
       "    }\n",
       "</style>\n",
       "<table border=\"1\" class=\"dataframe\">\n",
       "  <thead>\n",
       "    <tr style=\"text-align: right;\">\n",
       "      <th></th>\n",
       "      <th>user_id</th>\n",
       "      <th>UserReview_count</th>\n",
       "      <th>Yelping_since</th>\n",
       "      <th>friends</th>\n",
       "      <th>average_stars</th>\n",
       "    </tr>\n",
       "  </thead>\n",
       "  <tbody>\n",
       "    <tr>\n",
       "      <th>0</th>\n",
       "      <td>0LUt7xSvYgLpL0zBezI5QA</td>\n",
       "      <td>17</td>\n",
       "      <td>2015-05-17 22:45:50</td>\n",
       "      <td>vRIy03B-RojFB-pwpWECVw, VUPQF1XuNBv1gfCv7lyv7Q...</td>\n",
       "      <td>4.00</td>\n",
       "    </tr>\n",
       "    <tr>\n",
       "      <th>1</th>\n",
       "      <td>31nz8urmYS2uogLPWZnx7Q</td>\n",
       "      <td>112</td>\n",
       "      <td>2013-09-27 00:29:03</td>\n",
       "      <td>jq4k1GUc4DV_te_i1pOzQA, r6_B9482C89MQhKvthrtAA...</td>\n",
       "      <td>3.88</td>\n",
       "    </tr>\n",
       "    <tr>\n",
       "      <th>2</th>\n",
       "      <td>47NAV-86kgFEuIWT3Y9o-A</td>\n",
       "      <td>1</td>\n",
       "      <td>2016-08-22 01:05:41</td>\n",
       "      <td>NZ2trqLpx_E01DGlNzk6Bw, 6RUSbHGH0RlNVnrNmXuTbg...</td>\n",
       "      <td>4.00</td>\n",
       "    </tr>\n",
       "    <tr>\n",
       "      <th>3</th>\n",
       "      <td>6J0mGxAaPuHAPj8ShjOCag</td>\n",
       "      <td>58</td>\n",
       "      <td>2011-04-02 01:22:38</td>\n",
       "      <td>FRe2ylKTM2DajzvaUp0nQg, PP_DKB0H31-Rx3R6aqthUQ...</td>\n",
       "      <td>3.17</td>\n",
       "    </tr>\n",
       "    <tr>\n",
       "      <th>4</th>\n",
       "      <td>9aCT1x8udt67wEIqv_xjTA</td>\n",
       "      <td>9</td>\n",
       "      <td>2014-10-15 02:54:37</td>\n",
       "      <td>gxoyPEjnNALIdZhH8jG_cQ</td>\n",
       "      <td>3.44</td>\n",
       "    </tr>\n",
       "    <tr>\n",
       "      <th>5</th>\n",
       "      <td>9mBFC5yp_D3wc5sIeG8smg</td>\n",
       "      <td>60</td>\n",
       "      <td>2014-08-26 12:23:31</td>\n",
       "      <td>fkMiipV4j_DG5nSoBnZvbg, NwVyki35xOcaxhMzHNtHDQ...</td>\n",
       "      <td>3.86</td>\n",
       "    </tr>\n",
       "    <tr>\n",
       "      <th>6</th>\n",
       "      <td>B41w9LUYQHbkTjFRfpHEjA</td>\n",
       "      <td>149</td>\n",
       "      <td>2017-03-19 18:00:57</td>\n",
       "      <td>nd1YygrrakIELmw0jOHWqA, 1AOpfRX8UVu0Xe2WG7jeLQ...</td>\n",
       "      <td>3.81</td>\n",
       "    </tr>\n",
       "    <tr>\n",
       "      <th>7</th>\n",
       "      <td>BGzavA_ddMr-jGmhArv7fg</td>\n",
       "      <td>700</td>\n",
       "      <td>2009-03-23 22:41:25</td>\n",
       "      <td>HAv4iHgSyMS4HKwl5hb98w, tfoLutpNfg51xbcYtHK7ww...</td>\n",
       "      <td>3.74</td>\n",
       "    </tr>\n",
       "    <tr>\n",
       "      <th>8</th>\n",
       "      <td>B_4OUzr0q1jpOsgi1Wh9vA</td>\n",
       "      <td>14</td>\n",
       "      <td>2016-01-25 16:42:40</td>\n",
       "      <td>dyt5NhznSgIyQVOwRgGqpg, CUAWUHdiQUYrYJmSpEmHFw...</td>\n",
       "      <td>3.93</td>\n",
       "    </tr>\n",
       "    <tr>\n",
       "      <th>9</th>\n",
       "      <td>BzT2waPoocFE9Ga9Pwu-sA</td>\n",
       "      <td>21</td>\n",
       "      <td>2012-09-16 02:56:46</td>\n",
       "      <td>None</td>\n",
       "      <td>2.95</td>\n",
       "    </tr>\n",
       "  </tbody>\n",
       "</table>\n",
       "</div>"
      ],
      "text/plain": [
       "                  user_id  UserReview_count        Yelping_since  \\\n",
       "0  0LUt7xSvYgLpL0zBezI5QA                17  2015-05-17 22:45:50   \n",
       "1  31nz8urmYS2uogLPWZnx7Q               112  2013-09-27 00:29:03   \n",
       "2  47NAV-86kgFEuIWT3Y9o-A                 1  2016-08-22 01:05:41   \n",
       "3  6J0mGxAaPuHAPj8ShjOCag                58  2011-04-02 01:22:38   \n",
       "4  9aCT1x8udt67wEIqv_xjTA                 9  2014-10-15 02:54:37   \n",
       "5  9mBFC5yp_D3wc5sIeG8smg                60  2014-08-26 12:23:31   \n",
       "6  B41w9LUYQHbkTjFRfpHEjA               149  2017-03-19 18:00:57   \n",
       "7  BGzavA_ddMr-jGmhArv7fg               700  2009-03-23 22:41:25   \n",
       "8  B_4OUzr0q1jpOsgi1Wh9vA                14  2016-01-25 16:42:40   \n",
       "9  BzT2waPoocFE9Ga9Pwu-sA                21  2012-09-16 02:56:46   \n",
       "\n",
       "                                             friends  average_stars  \n",
       "0  vRIy03B-RojFB-pwpWECVw, VUPQF1XuNBv1gfCv7lyv7Q...           4.00  \n",
       "1  jq4k1GUc4DV_te_i1pOzQA, r6_B9482C89MQhKvthrtAA...           3.88  \n",
       "2  NZ2trqLpx_E01DGlNzk6Bw, 6RUSbHGH0RlNVnrNmXuTbg...           4.00  \n",
       "3  FRe2ylKTM2DajzvaUp0nQg, PP_DKB0H31-Rx3R6aqthUQ...           3.17  \n",
       "4                             gxoyPEjnNALIdZhH8jG_cQ           3.44  \n",
       "5  fkMiipV4j_DG5nSoBnZvbg, NwVyki35xOcaxhMzHNtHDQ...           3.86  \n",
       "6  nd1YygrrakIELmw0jOHWqA, 1AOpfRX8UVu0Xe2WG7jeLQ...           3.81  \n",
       "7  HAv4iHgSyMS4HKwl5hb98w, tfoLutpNfg51xbcYtHK7ww...           3.74  \n",
       "8  dyt5NhznSgIyQVOwRgGqpg, CUAWUHdiQUYrYJmSpEmHFw...           3.93  \n",
       "9                                               None           2.95  "
      ]
     },
     "execution_count": 129,
     "metadata": {},
     "output_type": "execute_result"
    }
   ],
   "source": [
    "userProfileDF.createOrReplaceTempView(\"userProfile\")\n",
    "\n",
    "spark.sql(\"\"\"\n",
    "SELECT * FROM userProfile\n",
    "LIMIT 10\n",
    "\"\"\").toPandas()"
   ]
  },
  {
   "cell_type": "code",
   "execution_count": 130,
   "metadata": {},
   "outputs": [
    {
     "data": {
      "text/html": [
       "<div>\n",
       "<style scoped>\n",
       "    .dataframe tbody tr th:only-of-type {\n",
       "        vertical-align: middle;\n",
       "    }\n",
       "\n",
       "    .dataframe tbody tr th {\n",
       "        vertical-align: top;\n",
       "    }\n",
       "\n",
       "    .dataframe thead th {\n",
       "        text-align: right;\n",
       "    }\n",
       "</style>\n",
       "<table border=\"1\" class=\"dataframe\">\n",
       "  <thead>\n",
       "    <tr style=\"text-align: right;\">\n",
       "      <th></th>\n",
       "      <th>summary</th>\n",
       "      <th>user_id</th>\n",
       "      <th>UserReview_count</th>\n",
       "      <th>Yelping_since</th>\n",
       "      <th>friends</th>\n",
       "      <th>average_stars</th>\n",
       "    </tr>\n",
       "  </thead>\n",
       "  <tbody>\n",
       "    <tr>\n",
       "      <th>0</th>\n",
       "      <td>count</td>\n",
       "      <td>12039</td>\n",
       "      <td>12039</td>\n",
       "      <td>12039</td>\n",
       "      <td>12039</td>\n",
       "      <td>12039</td>\n",
       "    </tr>\n",
       "    <tr>\n",
       "      <th>1</th>\n",
       "      <td>mean</td>\n",
       "      <td>None</td>\n",
       "      <td>91.16388404352521</td>\n",
       "      <td>None</td>\n",
       "      <td>None</td>\n",
       "      <td>3.620879641166212</td>\n",
       "    </tr>\n",
       "    <tr>\n",
       "      <th>2</th>\n",
       "      <td>stddev</td>\n",
       "      <td>None</td>\n",
       "      <td>251.67769839448667</td>\n",
       "      <td>None</td>\n",
       "      <td>None</td>\n",
       "      <td>0.6500045231353129</td>\n",
       "    </tr>\n",
       "    <tr>\n",
       "      <th>3</th>\n",
       "      <td>min</td>\n",
       "      <td>--7gjElmOrthETJ8XqzMBw</td>\n",
       "      <td>1</td>\n",
       "      <td>2005-03-04 04:26:12</td>\n",
       "      <td>--Qh8yKWAvIP4V4K8ZPfHA, oGjHvq_gGA1liPultrPwOw...</td>\n",
       "      <td>1.0</td>\n",
       "    </tr>\n",
       "    <tr>\n",
       "      <th>4</th>\n",
       "      <td>max</td>\n",
       "      <td>zzo--VpSQh8PpsGVeMC1dQ</td>\n",
       "      <td>7750</td>\n",
       "      <td>2018-09-30 12:30:23</td>\n",
       "      <td>zzltQbbtriSWWdNINMzJUw, jfgdYDS1h5Io4zfAxsoKfQ...</td>\n",
       "      <td>5.0</td>\n",
       "    </tr>\n",
       "  </tbody>\n",
       "</table>\n",
       "</div>"
      ],
      "text/plain": [
       "  summary                 user_id    UserReview_count        Yelping_since  \\\n",
       "0   count                   12039               12039                12039   \n",
       "1    mean                    None   91.16388404352521                 None   \n",
       "2  stddev                    None  251.67769839448667                 None   \n",
       "3     min  --7gjElmOrthETJ8XqzMBw                   1  2005-03-04 04:26:12   \n",
       "4     max  zzo--VpSQh8PpsGVeMC1dQ                7750  2018-09-30 12:30:23   \n",
       "\n",
       "                                             friends       average_stars  \n",
       "0                                              12039               12039  \n",
       "1                                               None   3.620879641166212  \n",
       "2                                               None  0.6500045231353129  \n",
       "3  --Qh8yKWAvIP4V4K8ZPfHA, oGjHvq_gGA1liPultrPwOw...                 1.0  \n",
       "4  zzltQbbtriSWWdNINMzJUw, jfgdYDS1h5Io4zfAxsoKfQ...                 5.0  "
      ]
     },
     "execution_count": 130,
     "metadata": {},
     "output_type": "execute_result"
    }
   ],
   "source": [
    "userProfileDF.describe().toPandas()"
   ]
  },
  {
   "cell_type": "code",
   "execution_count": 131,
   "metadata": {},
   "outputs": [
    {
     "data": {
      "text/plain": [
       "common\n",
       "False    AxesSubplot(0.125,0.125;0.775x0.755)\n",
       "True     AxesSubplot(0.125,0.125;0.775x0.755)\n",
       "dtype: object"
      ]
     },
     "execution_count": 131,
     "metadata": {},
     "output_type": "execute_result"
    },
    {
     "data": {
      "image/png": "[encoded data removed]",
      "text/plain": [
       "<Figure size 720x360 with 1 Axes>"
      ]
     },
     "metadata": {
      "needs_background": "light"
     },
     "output_type": "display_data"
    },
    {
     "data": {
      "image/png": "[encoded data removed]",
      "text/plain": [
       "<Figure size 720x360 with 1 Axes>"
      ]
     },
     "metadata": {
      "needs_background": "light"
     },
     "output_type": "display_data"
    }
   ],
   "source": [
    "spark.sql(\"\"\"\n",
    "SELECT (UserReview_count < 200) common, CEIL(UserReview_count/10) bin, count(1) count FROM userProfile\n",
    "GROUP BY (UserReview_count < 200), CEIL(UserReview_count/10)\n",
    "ORDER BY common, bin\n",
    "\"\"\").toPandas().groupby(\"common\").plot(kind=\"bar\", x=\"bin\", y=\"count\", figsize=(10,5), color=\"blue\")"
   ]
  },
  {
   "cell_type": "code",
   "execution_count": 132,
   "metadata": {},
   "outputs": [
    {
     "data": {
      "text/plain": [
       "<matplotlib.axes._subplots.AxesSubplot at 0x7f2dd184d278>"
      ]
     },
     "execution_count": 132,
     "metadata": {},
     "output_type": "execute_result"
    },
    {
     "data": {
      "image/png": "[encoded data removed]",
      "text/plain": [
       "<Figure size 720x360 with 1 Axes>"
      ]
     },
     "metadata": {
      "needs_background": "light"
     },
     "output_type": "display_data"
    }
   ],
   "source": [
    "spark.sql(\"\"\"\n",
    "SELECT CEIL(average_stars) bin, count(1) count FROM userProfile\n",
    "GROUP BY CEIL(average_stars)\n",
    "ORDER BY bin\n",
    "\"\"\").toPandas().plot(kind=\"bar\", x=\"bin\", y=\"count\", figsize=(10,5), color=\"blue\")"
   ]
  },
  {
   "cell_type": "code",
   "execution_count": 134,
   "metadata": {},
   "outputs": [],
   "source": [
    "businessProfileDF = spark.sql(\"\"\"\n",
    "SELECT DISTINCT business_id, ResReview_count, city, state, bus_stars FROM citycombine\n",
    "\"\"\")"
   ]
  },
  {
   "cell_type": "code",
   "execution_count": 135,
   "metadata": {},
   "outputs": [],
   "source": [
    "businessProfileDF.createOrReplaceTempView(\"busProfile\")"
   ]
  },
  {
   "cell_type": "code",
   "execution_count": 137,
   "metadata": {},
   "outputs": [
    {
     "data": {
      "text/html": [
       "<div>\n",
       "<style scoped>\n",
       "    .dataframe tbody tr th:only-of-type {\n",
       "        vertical-align: middle;\n",
       "    }\n",
       "\n",
       "    .dataframe tbody tr th {\n",
       "        vertical-align: top;\n",
       "    }\n",
       "\n",
       "    .dataframe thead th {\n",
       "        text-align: right;\n",
       "    }\n",
       "</style>\n",
       "<table border=\"1\" class=\"dataframe\">\n",
       "  <thead>\n",
       "    <tr style=\"text-align: right;\">\n",
       "      <th></th>\n",
       "      <th>summary</th>\n",
       "      <th>business_id</th>\n",
       "      <th>ResReview_count</th>\n",
       "      <th>city</th>\n",
       "      <th>state</th>\n",
       "      <th>bus_stars</th>\n",
       "    </tr>\n",
       "  </thead>\n",
       "  <tbody>\n",
       "    <tr>\n",
       "      <th>0</th>\n",
       "      <td>count</td>\n",
       "      <td>1798</td>\n",
       "      <td>1798</td>\n",
       "      <td>1798</td>\n",
       "      <td>1798</td>\n",
       "      <td>1798</td>\n",
       "    </tr>\n",
       "    <tr>\n",
       "      <th>1</th>\n",
       "      <td>mean</td>\n",
       "      <td>None</td>\n",
       "      <td>40.71579532814238</td>\n",
       "      <td>None</td>\n",
       "      <td>None</td>\n",
       "      <td>3.352892102335929</td>\n",
       "    </tr>\n",
       "    <tr>\n",
       "      <th>2</th>\n",
       "      <td>stddev</td>\n",
       "      <td>None</td>\n",
       "      <td>65.88985839908327</td>\n",
       "      <td>None</td>\n",
       "      <td>None</td>\n",
       "      <td>0.7285573066436942</td>\n",
       "    </tr>\n",
       "    <tr>\n",
       "      <th>3</th>\n",
       "      <td>min</td>\n",
       "      <td>-AVRReI-nfsa0lKlehEojw</td>\n",
       "      <td>3</td>\n",
       "      <td>Markham</td>\n",
       "      <td>BC</td>\n",
       "      <td>1.0</td>\n",
       "    </tr>\n",
       "    <tr>\n",
       "      <th>4</th>\n",
       "      <td>max</td>\n",
       "      <td>zxWbNs31PLO0DKBTY4L4Ig</td>\n",
       "      <td>700</td>\n",
       "      <td>Toronto</td>\n",
       "      <td>ON</td>\n",
       "      <td>5.0</td>\n",
       "    </tr>\n",
       "  </tbody>\n",
       "</table>\n",
       "</div>"
      ],
      "text/plain": [
       "  summary             business_id    ResReview_count     city state  \\\n",
       "0   count                    1798               1798     1798  1798   \n",
       "1    mean                    None  40.71579532814238     None  None   \n",
       "2  stddev                    None  65.88985839908327     None  None   \n",
       "3     min  -AVRReI-nfsa0lKlehEojw                  3  Markham    BC   \n",
       "4     max  zxWbNs31PLO0DKBTY4L4Ig                700  Toronto    ON   \n",
       "\n",
       "            bus_stars  \n",
       "0                1798  \n",
       "1   3.352892102335929  \n",
       "2  0.7285573066436942  \n",
       "3                 1.0  \n",
       "4                 5.0  "
      ]
     },
     "execution_count": 137,
     "metadata": {},
     "output_type": "execute_result"
    }
   ],
   "source": [
    "businessProfileDF.describe().toPandas()"
   ]
  },
  {
   "cell_type": "code",
   "execution_count": 138,
   "metadata": {},
   "outputs": [
    {
     "data": {
      "text/plain": [
       "common\n",
       "False    AxesSubplot(0.125,0.125;0.775x0.755)\n",
       "True     AxesSubplot(0.125,0.125;0.775x0.755)\n",
       "dtype: object"
      ]
     },
     "execution_count": 138,
     "metadata": {},
     "output_type": "execute_result"
    },
    {
     "data": {
      "image/png": "[encoded data removed]",
      "text/plain": [
       "<Figure size 720x360 with 1 Axes>"
      ]
     },
     "metadata": {
      "needs_background": "light"
     },
     "output_type": "display_data"
    },
    {
     "data": {
      "image/png": "[encoded data removed]",
      "text/plain": [
       "<Figure size 720x360 with 1 Axes>"
      ]
     },
     "metadata": {
      "needs_background": "light"
     },
     "output_type": "display_data"
    }
   ],
   "source": [
    "spark.sql(\"\"\"\n",
    "SELECT (ResReview_count < 100) common, CEIL(ResReview_count/10) bin, count(1) count FROM busProfile\n",
    "GROUP BY (ResReview_count < 100), CEIL(ResReview_count/10)\n",
    "ORDER BY common, bin\n",
    "\"\"\").toPandas().groupby(\"common\").plot(kind=\"bar\", x=\"bin\", y=\"count\", figsize=(10,5), color=\"blue\")"
   ]
  },
  {
   "cell_type": "code",
   "execution_count": 158,
   "metadata": {},
   "outputs": [
    {
     "data": {
      "text/html": [
       "<div>\n",
       "<style scoped>\n",
       "    .dataframe tbody tr th:only-of-type {\n",
       "        vertical-align: middle;\n",
       "    }\n",
       "\n",
       "    .dataframe tbody tr th {\n",
       "        vertical-align: top;\n",
       "    }\n",
       "\n",
       "    .dataframe thead th {\n",
       "        text-align: right;\n",
       "    }\n",
       "</style>\n",
       "<table border=\"1\" class=\"dataframe\">\n",
       "  <thead>\n",
       "    <tr style=\"text-align: right;\">\n",
       "      <th></th>\n",
       "      <th>count</th>\n",
       "      <th>city</th>\n",
       "    </tr>\n",
       "  </thead>\n",
       "  <tbody>\n",
       "    <tr>\n",
       "      <th>0</th>\n",
       "      <td>82</td>\n",
       "      <td>Richmond Hill</td>\n",
       "    </tr>\n",
       "    <tr>\n",
       "      <th>1</th>\n",
       "      <td>1270</td>\n",
       "      <td>Toronto</td>\n",
       "    </tr>\n",
       "    <tr>\n",
       "      <th>2</th>\n",
       "      <td>126</td>\n",
       "      <td>Markham</td>\n",
       "    </tr>\n",
       "    <tr>\n",
       "      <th>3</th>\n",
       "      <td>258</td>\n",
       "      <td>Mississauga</td>\n",
       "    </tr>\n",
       "    <tr>\n",
       "      <th>4</th>\n",
       "      <td>62</td>\n",
       "      <td>North York</td>\n",
       "    </tr>\n",
       "  </tbody>\n",
       "</table>\n",
       "</div>"
      ],
      "text/plain": [
       "   count           city\n",
       "0     82  Richmond Hill\n",
       "1   1270        Toronto\n",
       "2    126        Markham\n",
       "3    258    Mississauga\n",
       "4     62     North York"
      ]
     },
     "execution_count": 158,
     "metadata": {},
     "output_type": "execute_result"
    }
   ],
   "source": [
    "spark.sql(\"\"\"\n",
    "SELECT COUNT(business_id) count, city FROM busProfile\n",
    "GROUP BY city\n",
    "\"\"\").toPandas()"
   ]
  },
  {
   "cell_type": "code",
   "execution_count": 155,
   "metadata": {},
   "outputs": [
    {
     "data": {
      "text/plain": [
       "<matplotlib.axes._subplots.AxesSubplot at 0x7f2dd12246d8>"
      ]
     },
     "execution_count": 155,
     "metadata": {},
     "output_type": "execute_result"
    },
    {
     "data": {
      "image/png": "[encoded data removed]",
      "text/plain": [
       "<Figure size 720x360 with 1 Axes>"
      ]
     },
     "metadata": {
      "needs_background": "light"
     },
     "output_type": "display_data"
    }
   ],
   "source": [
    "spark.sql(\"\"\"\n",
    "SELECT COUNT(business_id) count, city FROM busProfile\n",
    "GROUP BY city\n",
    "ORDER BY city\n",
    "\"\"\").toPandas().plot(kind=\"bar\", x=\"city\", y=\"count\", figsize=(10,5), color=\"blue\")"
   ]
  },
  {
   "cell_type": "code",
   "execution_count": 156,
   "metadata": {},
   "outputs": [
    {
     "data": {
      "text/plain": [
       "<matplotlib.axes._subplots.AxesSubplot at 0x7f2dd11fac50>"
      ]
     },
     "execution_count": 156,
     "metadata": {},
     "output_type": "execute_result"
    },
    {
     "data": {
      "image/png": "[encoded data removed]",
      "text/plain": [
       "<Figure size 720x360 with 1 Axes>"
      ]
     },
     "metadata": {
      "needs_background": "light"
     },
     "output_type": "display_data"
    }
   ],
   "source": [
    "spark.sql(\"\"\"\n",
    "SELECT CEIL(bus_stars) bin, count(1) count FROM busProfile\n",
    "GROUP BY CEIL(bus_stars)\n",
    "ORDER BY bin\n",
    "\"\"\").toPandas().plot(kind=\"bar\", x=\"bin\", y=\"count\", figsize=(10,5), color=\"blue\")"
   ]
  },
  {
   "cell_type": "code",
   "execution_count": 142,
   "metadata": {},
   "outputs": [],
   "source": [
    "reviewProfileDF.createOrReplaceTempView(\"reviewProfile\")"
   ]
  },
  {
   "cell_type": "code",
   "execution_count": 143,
   "metadata": {},
   "outputs": [
    {
     "data": {
      "text/html": [
       "<div>\n",
       "<style scoped>\n",
       "    .dataframe tbody tr th:only-of-type {\n",
       "        vertical-align: middle;\n",
       "    }\n",
       "\n",
       "    .dataframe tbody tr th {\n",
       "        vertical-align: top;\n",
       "    }\n",
       "\n",
       "    .dataframe thead th {\n",
       "        text-align: right;\n",
       "    }\n",
       "</style>\n",
       "<table border=\"1\" class=\"dataframe\">\n",
       "  <thead>\n",
       "    <tr style=\"text-align: right;\">\n",
       "      <th></th>\n",
       "      <th>summary</th>\n",
       "      <th>review_id</th>\n",
       "      <th>business_id</th>\n",
       "      <th>user_id</th>\n",
       "      <th>rev_stars</th>\n",
       "      <th>date</th>\n",
       "    </tr>\n",
       "  </thead>\n",
       "  <tbody>\n",
       "    <tr>\n",
       "      <th>0</th>\n",
       "      <td>count</td>\n",
       "      <td>45047</td>\n",
       "      <td>45047</td>\n",
       "      <td>45047</td>\n",
       "      <td>45047</td>\n",
       "      <td>45047</td>\n",
       "    </tr>\n",
       "    <tr>\n",
       "      <th>1</th>\n",
       "      <td>mean</td>\n",
       "      <td>None</td>\n",
       "      <td>None</td>\n",
       "      <td>None</td>\n",
       "      <td>3.575132639243457</td>\n",
       "      <td>None</td>\n",
       "    </tr>\n",
       "    <tr>\n",
       "      <th>2</th>\n",
       "      <td>stddev</td>\n",
       "      <td>None</td>\n",
       "      <td>None</td>\n",
       "      <td>None</td>\n",
       "      <td>1.1609140880508115</td>\n",
       "      <td>None</td>\n",
       "    </tr>\n",
       "    <tr>\n",
       "      <th>3</th>\n",
       "      <td>min</td>\n",
       "      <td>--0zXw3_ZjcRXPo3CRBKQw</td>\n",
       "      <td>-AVRReI-nfsa0lKlehEojw</td>\n",
       "      <td>--7gjElmOrthETJ8XqzMBw</td>\n",
       "      <td>1.0</td>\n",
       "      <td>2008-08-06 23:04:28</td>\n",
       "    </tr>\n",
       "    <tr>\n",
       "      <th>4</th>\n",
       "      <td>max</td>\n",
       "      <td>zzd6yae3FNXoXHOjQrDn_A</td>\n",
       "      <td>zxWbNs31PLO0DKBTY4L4Ig</td>\n",
       "      <td>zzo--VpSQh8PpsGVeMC1dQ</td>\n",
       "      <td>5.0</td>\n",
       "      <td>2018-11-14 17:43:19</td>\n",
       "    </tr>\n",
       "  </tbody>\n",
       "</table>\n",
       "</div>"
      ],
      "text/plain": [
       "  summary               review_id             business_id  \\\n",
       "0   count                   45047                   45047   \n",
       "1    mean                    None                    None   \n",
       "2  stddev                    None                    None   \n",
       "3     min  --0zXw3_ZjcRXPo3CRBKQw  -AVRReI-nfsa0lKlehEojw   \n",
       "4     max  zzd6yae3FNXoXHOjQrDn_A  zxWbNs31PLO0DKBTY4L4Ig   \n",
       "\n",
       "                  user_id           rev_stars                 date  \n",
       "0                   45047               45047                45047  \n",
       "1                    None   3.575132639243457                 None  \n",
       "2                    None  1.1609140880508115                 None  \n",
       "3  --7gjElmOrthETJ8XqzMBw                 1.0  2008-08-06 23:04:28  \n",
       "4  zzo--VpSQh8PpsGVeMC1dQ                 5.0  2018-11-14 17:43:19  "
      ]
     },
     "execution_count": 143,
     "metadata": {},
     "output_type": "execute_result"
    }
   ],
   "source": [
    "reviewProfileDF.describe().toPandas()"
   ]
  },
  {
   "cell_type": "code",
   "execution_count": 144,
   "metadata": {},
   "outputs": [
    {
     "data": {
      "text/plain": [
       "<matplotlib.axes._subplots.AxesSubplot at 0x7f2dd1370240>"
      ]
     },
     "execution_count": 144,
     "metadata": {},
     "output_type": "execute_result"
    },
    {
     "data": {
      "image/png": "[encoded data removed]",
      "text/plain": [
       "<Figure size 720x360 with 1 Axes>"
      ]
     },
     "metadata": {
      "needs_background": "light"
     },
     "output_type": "display_data"
    }
   ],
   "source": [
    "spark.sql(\"\"\"\n",
    "SELECT CEIL(rev_stars) bin, count(1) count FROM reviewProfile\n",
    "GROUP BY CEIL(rev_stars)\n",
    "ORDER BY bin\n",
    "\"\"\").toPandas().plot(kind=\"bar\", x=\"bin\", y=\"count\", figsize=(10,5), color=\"blue\")"
   ]
  },
  {
   "cell_type": "code",
   "execution_count": null,
   "metadata": {},
   "outputs": [],
   "source": []
  }
 ],
 "metadata": {
  "kernelspec": {
   "display_name": "Python 3",
   "language": "python",
   "name": "python3"
  },
  "language_info": {
   "codemirror_mode": {
    "name": "ipython",
    "version": 3
   },
   "file_extension": ".py",
   "mimetype": "text/x-python",
   "name": "python",
   "nbconvert_exporter": "python",
   "pygments_lexer": "ipython3",
   "version": "3.6.8"
  }
 },
 "nbformat": 4,
 "nbformat_minor": 2
}
